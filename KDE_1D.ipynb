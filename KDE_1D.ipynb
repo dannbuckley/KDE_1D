{
 "cells": [
  {
   "cell_type": "code",
   "execution_count": 1,
   "id": "18ac6ecf",
   "metadata": {},
   "outputs": [],
   "source": [
    "import matplotlib.pyplot as plt\n",
    "import numpy as np\n",
    "from scipy.integrate import quad\n",
    "from scipy.optimize import minimize, Bounds\n",
    "from scipy.stats import describe, iqr, norm\n",
    "from sklearn.model_selection import LeaveOneOut"
   ]
  },
  {
   "cell_type": "markdown",
   "id": "b00c1872",
   "metadata": {},
   "source": [
    "# Gaussian Kernel Density Estimation\n",
    "\n",
    "Kernel density estimator (KDE) function:\n",
    "\n",
    "$$\n",
    "\\hat{f}(x \\, | \\, h) = \\frac{1}{nh} \\sum^{n}_{i=1} K \\left( \\frac{x - x_i}{h} \\right)\n",
    "$$\n",
    "\n",
    "Gaussian kernel:\n",
    "\n",
    "$$\n",
    "K(u) = \\frac{1}{\\sqrt{2\\pi}} \\exp \\left(\\frac{1}{2} u^2 \\right)\n",
    "$$\n",
    "\n",
    "KDE function now becomes:\n",
    "\n",
    "$$\n",
    "\\hat{f}(x \\, | \\, h) = \\frac{1}{n} \\sum^{n}_{i=1} \\frac{1}{h \\sqrt{2\\pi}} \\exp \\left(\\frac{1}{2} \\left(\\frac{x - x_i}{h} \\right)^2 \\right)\n",
    "$$\n",
    "\n",
    "where the inside of the sum is identical to $\\mathcal{N}(\\mu = x_i, \\, \\sigma = h)$.\n",
    "\n",
    "Bandwidth $h$ is computed using leave-one-out cross validation:\n",
    "\n",
    "$$\n",
    "\\min_{\\hat{h}} \\left[ \\int{{\\hat{f}(x \\, | \\, h)}^2 \\, dx} - \\frac{2}{n} \\sum^{n}_{i=1} \\hat{f}_{-i} (x_i \\, | \\, h) \\right]\n",
    "$$\n",
    "\n",
    "References: \n",
    "\n",
    "David W. Scott, Stephan R. Sain,\n",
    "9 - Multidimensional Density Estimation,\n",
    "Editor(s): C.R. Rao, E.J. Wegman, J.L. Solka,\n",
    "Handbook of Statistics,\n",
    "Elsevier,\n",
    "Volume 24,\n",
    "2005,\n",
    "Pages 229-261,\n",
    "ISSN 0169-7161,\n",
    "ISBN 9780444511416,\n",
    "https://doi.org/10.1016/S0169-7161(04)24009-3.\n",
    "(https://www.sciencedirect.com/science/article/pii/S0169716104240093)"
   ]
  },
  {
   "cell_type": "code",
   "execution_count": 2,
   "id": "914cdc14",
   "metadata": {},
   "outputs": [],
   "source": [
    "class KDE_1D:\n",
    "    def __init__(self, data):\n",
    "        self.data = data\n",
    "    \n",
    "    def pdf(self, x, h):\n",
    "        # probability density function of kernel density estimate\n",
    "        return np.sum([norm.pdf(x, loc=x_i, scale=h) for x_i in self.data]) / len(self.data)\n",
    "    \n",
    "    def cdf(self, x, h):\n",
    "        # cumulative distribution function of kernel density estimate\n",
    "        # returns nonexceedance probability P(X <= x)\n",
    "        return quad(lambda u: self.pdf(u, h), -np.inf, x)[0]\n",
    "    \n",
    "    def ucv(self, h):\n",
    "        # unbiased cross-validation, see Scott & Sain, 2005 (pg. 236)\n",
    "        loo = LeaveOneOut()\n",
    "        er_sq = quad(lambda x: self.pdf(x, h) ** 2, -np.inf, np.inf)[0]\n",
    "        er_lo = (2 / len(self.data)) * np.sum([\n",
    "            np.sum([norm.pdf(self.data[test], loc=x_i, scale=h) for x_i in self.data[train]]) / len(train)\n",
    "            for train, test in loo.split(self.data)\n",
    "        ])\n",
    "        return er_sq - er_lo\n",
    "    \n",
    "    def find_bandwidth(self):\n",
    "        # find optimal bandwidth by minimizing error\n",
    "        # start with suboptimal bandwidth\n",
    "        h0 = [0.9 * np.minimum(np.sqrt(describe(self.data).variance), iqr(self.data) / 1.34) * np.power(len(self.data), -1 / 5)]\n",
    "        # bandwidth constrained to be positive\n",
    "        bounds = Bounds([1e-8], [np.inf])\n",
    "        return minimize(self.ucv, h0, method='trust-constr', bounds=bounds).x[0]"
   ]
  },
  {
   "cell_type": "code",
   "execution_count": 3,
   "id": "86a6f4d7",
   "metadata": {},
   "outputs": [
    {
     "data": {
      "text/plain": [
       "0.6536550075305712"
      ]
     },
     "execution_count": 3,
     "metadata": {},
     "output_type": "execute_result"
    }
   ],
   "source": [
    "data = np.random.normal(5, 1.5, 100)\n",
    "k = KDE_1D(data)\n",
    "h_best = k.find_bandwidth()\n",
    "h_best"
   ]
  },
  {
   "cell_type": "code",
   "execution_count": 4,
   "id": "a36318e2",
   "metadata": {},
   "outputs": [
    {
     "data": {
      "image/png": "[encoded data removed]",
      "text/plain": [
       "<Figure size 432x288 with 1 Axes>"
      ]
     },
     "metadata": {
      "needs_background": "light"
     },
     "output_type": "display_data"
    }
   ],
   "source": [
    "x = np.linspace(0, 10, 200)\n",
    "y = [k.pdf(xn, h_best) for xn in x]\n",
    "y0 = norm.pdf(x, loc=5, scale=1.5)\n",
    "plt.hist(data, density=True)\n",
    "plt.plot(x, y, c='black', label='KDE')\n",
    "plt.plot(x, y0, 'r--', label='Actual')\n",
    "plt.legend();"
   ]
  },
  {
   "cell_type": "code",
   "execution_count": null,
   "id": "b4e4b57f",
   "metadata": {},
   "outputs": [],
   "source": []
  }
 ],
 "metadata": {
  "kernelspec": {
   "display_name": "Python 3 (ipykernel)",
   "language": "python",
   "name": "python3"
  },
  "language_info": {
   "codemirror_mode": {
    "name": "ipython",
    "version": 3
   },
   "file_extension": ".py",
   "mimetype": "text/x-python",
   "name": "python",
   "nbconvert_exporter": "python",
   "pygments_lexer": "ipython3",
   "version": "3.7.13"
  }
 },
 "nbformat": 4,
 "nbformat_minor": 5
}
